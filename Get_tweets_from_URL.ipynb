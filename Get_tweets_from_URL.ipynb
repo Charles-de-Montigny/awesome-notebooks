{
 "cells": [
  {
   "cell_type": "markdown",
   "id": "latin-packing",
   "metadata": {
    "execution": {
     "iopub.execute_input": "2021-02-23T14:22:16.610471Z",
     "iopub.status.busy": "2021-02-23T14:22:16.610129Z",
     "iopub.status.idle": "2021-02-23T14:22:16.627784Z",
     "shell.execute_reply": "2021-02-23T14:22:16.626866Z",
     "shell.execute_reply.started": "2021-02-23T14:22:16.610384Z"
    },
    "papermill": {},
    "tags": []
   },
   "source": [
    "<img width=\"10%\" alt=\"Naas\" src=\"https://landen.imgix.net/jtci2pxwjczr/assets/5ice39g4.png?w=160\"/>"
   ]
  },
  {
   "cell_type": "markdown",
   "id": "1eb97308-3641-45ee-a966-4d1d8d7903a7",
   "metadata": {
    "papermill": {},
    "tags": []
   },
   "source": [
    "# Get Tweet Data From URL\n",
    "<a href=\"https://app.naas.ai/user-redirect/naas/downloader?url=https://raw.githubusercontent.com/jupyter-naas/awesome-notebooks/master/template.ipynb\" target=\"_parent\">\n",
    "<img src=\"https://img.shields.io/badge/-Open%20in%20Naas-success?labelColor=000000&logo=data:image/svg+xml;base64,PD94bWwgdmVyc2lvbj0iMS4wIiBlbmNvZGluZz0iVVRGLTgiPz4KPHN2ZyB3aWR0aD0iMTAyNHB4IiBoZWlnaHQ9IjEwMjRweCIgdmlld0JveD0iMCAwIDEwMjQgMTAyNCIgeG1sbnM9Imh0dHA6Ly93d3cudzMub3JnLzIwMDAvc3ZnIiB4bWxuczp4bGluaz0iaHR0cDovL3d3dy53My5vcmcvMTk5OS94bGluayIgdmVyc2lvbj0iMS4xIj4KIDwhLS0gR2VuZXJhdGVkIGJ5IFBpeGVsbWF0b3IgUHJvIDIuMC41IC0tPgogPGRlZnM+CiAgPHRleHQgaWQ9InN0cmluZyIgdHJhbnNmb3JtPSJtYXRyaXgoMS4wIDAuMCAwLjAgMS4wIDIyOC4wIDU0LjUpIiBmb250LWZhbWlseT0iQ29tZm9ydGFhLVJlZ3VsYXIsIENvbWZvcnRhYSIgZm9udC1zaXplPSI4MDAiIHRleHQtZGVjb3JhdGlvbj0ibm9uZSIgZmlsbD0iI2ZmZmZmZiIgeD0iMS4xOTk5OTk5OTk5OTk5ODg2IiB5PSI3MDUuMCI+bjwvdGV4dD4KIDwvZGVmcz4KIDx1c2UgaWQ9Im4iIHhsaW5rOmhyZWY9IiNzdHJpbmciLz4KPC9zdmc+Cg==\"/>\n",
    "</a>"
   ]
  },
  {
   "cell_type": "markdown",
   "id": "religious-programmer",
   "metadata": {},
   "source": [
    "**Tags:** #tag1 #tag2"
   ]
  },
  {
   "cell_type": "markdown",
   "id": "distinguished-truth",
   "metadata": {
    "papermill": {},
    "tags": []
   },
   "source": [
    "## Input"
   ]
  },
  {
   "cell_type": "markdown",
   "id": "numeric-mediterranean",
   "metadata": {},
   "source": [
    "### Import library"
   ]
  },
  {
   "cell_type": "code",
   "execution_count": null,
   "id": "potential-surfing",
   "metadata": {
    "tags": []
   },
   "outputs": [],
   "source": [
    "import os\n",
    "os.system(\"pip install hvplot\")"
   ]
  },
  {
   "cell_type": "code",
   "execution_count": null,
   "id": "2ae05562-8dc9-4f2c-ba4a-b8a3dae7e0d4",
   "metadata": {
    "tags": []
   },
   "outputs": [],
   "source": [
    "#import naas_drivers\n",
    "import re\n",
    "import pandas as pd\n",
    "import hvplot.pandas"
   ]
  },
  {
   "cell_type": "code",
   "execution_count": null,
   "id": "699478b3-f20f-4cce-86ea-1ff43c5b007d",
   "metadata": {
    "tags": []
   },
   "outputs": [],
   "source": [
    "#install developer snscrape package via command line\n",
    "os.system(\"pip3 install git+https://github.com/JustAnotherArchivist/snscrape.git\")"
   ]
  },
  {
   "cell_type": "markdown",
   "id": "aggressive-trustee",
   "metadata": {},
   "source": [
    "### Variables"
   ]
  },
  {
   "cell_type": "code",
   "execution_count": null,
   "id": "continuous-melbourne",
   "metadata": {
    "tags": []
   },
   "outputs": [],
   "source": [
    "#criteria for searching by username\n",
    "tweet_count = 50\n",
    "username = \"Nadeshiko939\""
   ]
  },
  {
   "cell_type": "code",
   "execution_count": null,
   "id": "04e05b45-824f-4742-8e21-fe053e387fec",
   "metadata": {
    "tags": []
   },
   "outputs": [],
   "source": [
    "#search by username using command line\n",
    "os.system(\"snscrape --jsonl --max-results {} twitter-search from:{} > user-tweets.json\".format(tweet_count, username))"
   ]
  },
  {
   "cell_type": "markdown",
   "id": "4ca72279-58b6-4ba5-b1ab-59ef06319c35",
   "metadata": {},
   "source": [
    "##### Reading in search by username results"
   ]
  },
  {
   "cell_type": "code",
   "execution_count": null,
   "id": "crude-louisville",
   "metadata": {
    "papermill": {},
    "tags": []
   },
   "outputs": [],
   "source": [
    "# Reads the json generated from the CLI command above and creates a pandas dataframe\n",
    "tweets_df1 = pd.read_json('user-tweets.json', lines=True, convert_dates=True, keep_default_dates=True)\n",
    "\n",
    "# Displays first 5 entries from dataframe\n",
    "tweets_df1.head()"
   ]
  },
  {
   "cell_type": "markdown",
   "id": "c50ab983-7fd6-42a7-9882-a1573332fada",
   "metadata": {},
   "source": [
    "##### New datafram containing URL, TITLE, CONTENT, HASTAGS, DATE, LIKES , RETWEETS, HASTAGS"
   ]
  },
  {
   "cell_type": "code",
   "execution_count": null,
   "id": "866985c2-c8d7-45a7-be68-6094f1604f56",
   "metadata": {},
   "outputs": [],
   "source": [
    "#new df\n",
    "df = pd.DataFrame(tweets_df1[\"url\"])\n",
    "print(df.head())\n",
    "                         "
   ]
  },
  {
   "cell_type": "code",
   "execution_count": null,
   "id": "f210c80e-6c5d-440f-9fee-a22462d4f327",
   "metadata": {},
   "outputs": [],
   "source": [
    "#copy content column \n",
    "df[\"content\"] = tweets_df1[\"content\"]"
   ]
  },
  {
   "cell_type": "code",
   "execution_count": null,
   "id": "34849172-f251-45f7-9a9c-f0a0129bdbdd",
   "metadata": {},
   "outputs": [],
   "source": [
    "#remove handles and keep only content\n",
    "df[\"content\"] = df[\"content\"].str.replace(\"\\@\\S+\", \"\").str.strip()"
   ]
  },
  {
   "cell_type": "code",
   "execution_count": null,
   "id": "bcd70e5e-a344-4919-b608-4d43ca2bb9ca",
   "metadata": {},
   "outputs": [],
   "source": [
    "#extract title up to line break\n",
    "title = []\n",
    "\n",
    "for i in df[\"title\"]:\n",
    "    title.append(re.findall(\".*\\S\", i)[0])"
   ]
  },
  {
   "cell_type": "code",
   "execution_count": null,
   "id": "734afb4d-0f77-42ea-a9d6-1d4381aca9b7",
   "metadata": {},
   "outputs": [],
   "source": [
    "#save title to df\n",
    "df[\"title\"] = title"
   ]
  },
  {
   "cell_type": "code",
   "execution_count": null,
   "id": "dc30054d-8798-4901-8df8-39dedcaf2a70",
   "metadata": {},
   "outputs": [],
   "source": [
    "#save the rest of the columns to df\n",
    "df[\"content\"], df[\"date\"], df[\"hashtags\"], df[\"likes\"], df[\"retweets\"] = tweets_df1[\"content copy\"], tweets_df1[\"date\"], tweets_df1[\"hashtags\"], tweets_df1[\"likeCount\"], tweets_df1[\"retweetCount\"]"
   ]
  },
  {
   "cell_type": "code",
   "execution_count": null,
   "id": "275fa6c6-490d-4912-9662-a298186cca29",
   "metadata": {},
   "outputs": [],
   "source": [
    "df.to_csv(\"tweets_from_URL.csv\", index=False)"
   ]
  },
  {
   "cell_type": "markdown",
   "id": "lonely-pacific",
   "metadata": {
    "execution": {
     "iopub.execute_input": "2021-07-02T23:32:10.789097Z",
     "iopub.status.busy": "2021-07-02T23:32:10.788829Z",
     "iopub.status.idle": "2021-07-02T23:32:10.796900Z",
     "shell.execute_reply": "2021-07-02T23:32:10.796358Z",
     "shell.execute_reply.started": "2021-07-02T23:32:10.789033Z"
    }
   },
   "source": [
    "## Output"
   ]
  },
  {
   "cell_type": "markdown",
   "id": "0ad36aa9-d120-4339-b367-38c8a057ae28",
   "metadata": {},
   "source": [
    "##### Visualize frequency of twitter activity by date for search by username"
   ]
  },
  {
   "cell_type": "code",
   "execution_count": null,
   "id": "offensive-poetry",
   "metadata": {
    "tags": []
   },
   "outputs": [],
   "source": [
    "#visualize frequency on a timeline\n",
    "pd.options.plotting.backend = \"holoviews\"\n",
    "tweets_df1.date.hist(title=\"Twitter Activity by Date - Search by Username\")"
   ]
  },
  {
   "cell_type": "markdown",
   "id": "10da3cda-0af7-4fa1-ab65-cb842888cb95",
   "metadata": {},
   "source": [
    "##### Visualize network contact frequency for username of interest"
   ]
  },
  {
   "cell_type": "code",
   "execution_count": null,
   "id": "359854c1-afa8-46d0-abf8-8b83ced83dc0",
   "metadata": {
    "tags": []
   },
   "outputs": [],
   "source": [
    "handles.hvplot.line(x=\"index\", y=\"First\", rot=90, title=\"Top 20 Network Contacts for Username of Interest\")"
   ]
  }
 ],
 "metadata": {
  "kernelspec": {
   "display_name": "Python 3",
   "language": "python",
   "name": "python3"
  },
  "language_info": {
   "codemirror_mode": {
    "name": "ipython",
    "version": 3
   },
   "file_extension": ".py",
   "mimetype": "text/x-python",
   "name": "python",
   "nbconvert_exporter": "python",
   "pygments_lexer": "ipython3",
   "version": "3.8.8"
  },
  "papermill": {
   "default_parameters": {},
   "environment_variables": {},
   "parameters": {},
   "version": "2.3.3"
  },
  "widgets": {
   "application/vnd.jupyter.widget-state+json": {
    "state": {},
    "version_major": 2,
    "version_minor": 0
   }
  }
 },
 "nbformat": 4,
 "nbformat_minor": 5
}
